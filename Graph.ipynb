{
 "cells": [
  {
   "cell_type": "markdown",
   "id": "774e3063-b5f0-4f57-9353-24f0a4d30c39",
   "metadata": {},
   "source": [
    "# Curriculum Graph Code Demo #\n",
    "This notebook will take you through the process of creating a curriculum graph using networkx. Follow the instructions throughout the notebook. If you made it to this point, you should have already installed all required packages and environments to successfully run this program."
   ]
  },
  {
   "cell_type": "markdown",
   "id": "34ae6a8d-f784-423e-bc26-1bb23b201dc9",
   "metadata": {},
   "source": [
    "# Part 1: Clean data example #\n",
    "Run the following command to clean the fake data to create curriculum_table.csv"
   ]
  },
  {
   "cell_type": "code",
   "execution_count": null,
   "id": "a14a067e-191b-4292-8574-2a34664f85aa",
   "metadata": {},
   "outputs": [],
   "source": [
    "!python clean_data.py --registrar Fake_registrar.csv --majors Fake_majors.csv --out curriculum_table.csv"
   ]
  },
  {
   "cell_type": "markdown",
   "id": "26075b44-e888-4eee-9372-99589185e544",
   "metadata": {},
   "source": [
    "# Part 2: Import all necessary packages #"
   ]
  },
  {
   "cell_type": "code",
   "execution_count": null,
   "id": "cc6e1749-c573-4a80-978e-86af0654fe33",
   "metadata": {},
   "outputs": [],
   "source": [
    "import pandas as pd\n",
    "import matplotlib.pyplot as plt\n",
    "import networkx as nx"
   ]
  },
  {
   "cell_type": "markdown",
   "id": "f61a6cab-05a4-4a00-b8b3-fe68a8bd6139",
   "metadata": {},
   "source": [
    "## Load in data for the graph ##\n",
    "In this case, we have some fake data provided for this tutorial to work properly. You should have alreday ran the script to clean the data properly and should have an output file of curriculum_table.csv. Comming soon will be a graph with that data, but for now, here is where we load in our simple fake data."
   ]
  },
  {
   "cell_type": "code",
   "execution_count": null,
   "id": "f7bff67b-a8cd-4edb-bab2-8ef6c08bd4b8",
   "metadata": {},
   "outputs": [],
   "source": [
    "# NOT REAL DATA/PREREQs\n",
    "courses = {\n",
    "    \"BS 161\": \"Cell and Molecular Biology\",\n",
    "    \"ENT 205\": \"Pests, Society and Environment\",\n",
    "    \"IBIO 150\": \"Integrating Biology: From DNA to Populations\",\n",
    "    \"MMG 141\": \"Introductory Human Genetics\",\n",
    "    \"MMG 201\": \"Fundamentals of Microbiology\",\n",
    "    \"PLB 105\": \"Plant Biology\",\n",
    "    \"PSL 250\": \"Introductory Physiology\",\n",
    "    \"BS 171\": \"Cell and Molecular Biology Laboratory\",\n",
    "    \"CEM 161\": \"Chemistry Laboratory I\",\n",
    "    \"CEM 162\": \"Chemistry Laboratory II\",\n",
    "    \"PHY 191\": \"Physics Laboratory for Scientists I\",\n",
    "    \"PHY 192\": \"Physics Laboratory for Scientists II\",\n",
    "    \"PLB 106\": \"Plant Biology Laboratory\",\n",
    "    \"CMSE 201\": \"Computational Modeling and Data Analysis I\",\n",
    "    \"CMSE 381\": \"Fundamentals of Data Science Methods\",\n",
    "    \"CMSE 382\": \"Optimization Methods in Data Science\",\n",
    "    \"CMSE 495\": \"Experiential Learning in Data Science (W)\",\n",
    "    \"CSE 232\": \"Introduction to Programming II\",\n",
    "    \"CSE 300\": \"Social, Ethical, and Professional Issues in Computing\",\n",
    "    \"CSE 331\": \"Algorithms and Data Structures\",\n",
    "    \"CSE 380\": \"Information Management and the Cloud\",\n",
    "    \"CSE 404\": \"Introduction to Machine Learning\",\n",
    "    \"CSE 482\": \"Big Data Analysis\",\n",
    "    \"CSE 480\": \"Database Systems\",\n",
    "    \"MTH 314\": \"Matrix Algebra with Computational Applications\",\n",
    "    \"STT 180\": \"Introduction to Data Science\",\n",
    "    \"STT 380\": \"Probability and Statistics for Data Science\",\n",
    "    \"CSE 402\": \"Biometrics and Pattern Recognition\",\n",
    "    \"CSE 415\": \"Introduction to Parallel Computing\",\n",
    "    \"CSE 431\": \"Algorithm Engineering\",\n",
    "    \"CSE 440\": \"Introduction to Artificial Intelligence\",\n",
    "    \"CMSE 401\": \"Methods for Parallel Computing\",\n",
    "    \"CMSE 402\": \"Data Visualization Principles and Techniques\",\n",
    "    \"CSE 471\": \"Media Processing and Multimedia Computing\",\n",
    "    \"CSE 472\": \"Computer Graphics\",\n",
    "    \"MTH 451\": \"Numerical Analysis I\",\n",
    "    \"MTH 468\": \"Predictive Analytics\",\n",
    "    \"STT 464\": \"Statistics for Biologists\",\n",
    "    \"STT 465\": \"Bayesian Statistical Methods\"\n",
    "}\n",
    "\n",
    "Prereqs = {\n",
    "    \"BS 161\": [],\n",
    "    \"ENT 205\": [],\n",
    "    \"IBIO 150\": [],\n",
    "    \"MMG 141\": [],\n",
    "    \"MMG 201\": ['MMG 141'],\n",
    "    \"PLB 105\": [],\n",
    "    \"PSL 250\": [],\n",
    "    \"BS 171\": [],\n",
    "    \"CEM 161\": [],\n",
    "    \"CEM 162\": ['CEM 161'],\n",
    "    \"PHY 191\": [],\n",
    "    \"PHY 192\": ['PHY 191'],\n",
    "    \"PLB 106\": ['PHY 192'],\n",
    "    \"CMSE 201\": [],\n",
    "    \"CMSE 381\": ['CMSE 201', 'IBIO 150'],\n",
    "    \"CMSE 382\": ['CMSE 381'],\n",
    "    \"CMSE 495\": ['CMSE 382'],\n",
    "    \"CSE 232\": ['CMSE 201'],\n",
    "    \"CSE 300\": ['CSE 232'],\n",
    "    \"CSE 331\": ['CSE 232'],\n",
    "    \"CSE 380\": ['CSE 232'],\n",
    "    \"CSE 404\": ['MTH 314', 'STT 380'],\n",
    "    \"CSE 482\": ['MTH 314', 'STT 380', 'CSE 232'],\n",
    "    \"CSE 480\": ['MTH 314', 'STT 380', 'CSE 232', 'CSE 380'],\n",
    "    \"MTH 314\": ['CMSE 201'],\n",
    "    \"STT 180\": [],\n",
    "    \"STT 380\": ['STT 180'],\n",
    "    \"CSE 402\": ['CSE 232'],\n",
    "    \"CSE 415\": ['CSE 232', 'MTH 314'],\n",
    "    \"CSE 431\": ['CSE 232'],\n",
    "    \"CSE 440\": ['CSE 232', 'MTH 314'],\n",
    "    \"CMSE 401\": ['CMSE 201'],\n",
    "    \"CMSE 402\": ['CMSE 201'],\n",
    "    \"CSE 471\": ['CSE 232'],\n",
    "    \"CSE 472\": ['CSE 232', 'CSE 471'],\n",
    "    \"MTH 451\": ['CMSE 201'],\n",
    "    \"MTH 468\": ['CMSE 201', 'MTH 314'],\n",
    "    \"STT 464\": ['STT 380'],\n",
    "    \"STT 465\": ['STT 380']\n",
    "}\n",
    "\n",
    "courses_df = pd.DataFrame(list(courses.items()), columns=[\"Course Code\", \"Course Name\"])\n",
    "prereqs = pd.DataFrame(list(Prereqs.items()), columns=[\"Course Code\", \"Prereqs\"])"
   ]
  },
  {
   "cell_type": "markdown",
   "id": "0a90f3ac-c2c8-4a5a-b52d-0cbe424bbe37",
   "metadata": {},
   "source": [
    "## Use functions to correctly set up the data to be graphed ##\n",
    "Run the below cell to extracted the details needed to properly graph the data."
   ]
  },
  {
   "cell_type": "code",
   "execution_count": null,
   "id": "57f433eb-8c91-4792-ab36-40462caeef57",
   "metadata": {},
   "outputs": [],
   "source": [
    "# extract the number from course code\n",
    "def get_num(course_code):\n",
    "    num = int(course_code.split()[1])\n",
    "    return (num // 100) * 100\n",
    "\n",
    "#This portion of the code is used to find the best way to graph the nodes of each couyrse by course code number range (100, 200, 300, or 400 level)\n",
    "pos = {}\n",
    "num_groups = {}\n",
    "\n",
    "for _, course in enumerate(prereqs[\"Course Code\"]):\n",
    "    num = get_num(course)\n",
    "    if num not in num_groups:\n",
    "        num_groups[num] = []\n",
    "    num_groups[num].append(course)\n",
    "\n",
    "for x_index, (lvl, courses) in enumerate(sorted(num_groups.items())):\n",
    "    for y_index, course in enumerate(courses):\n",
    "        pos[course] = (x_index, -y_index)"
   ]
  },
  {
   "cell_type": "markdown",
   "id": "7e61ae91-7cc6-4093-818b-f7dd91c525f8",
   "metadata": {},
   "source": [
    "# Part 3: Graph the data #\n",
    "Now that the data has been loaded and any important information has been extracted for graphing, the curriculum can be graphed. Run the below cell to see the output of the fake data."
   ]
  },
  {
   "cell_type": "code",
   "execution_count": null,
   "id": "1577ee88-82e4-45d2-b49f-3848a8846a78",
   "metadata": {},
   "outputs": [],
   "source": [
    "#Create list with courses and prerequsites for the edges of the graph\n",
    "prereq_list=[]\n",
    "for val in prereqs[\"Course Code\"]:\n",
    "    if len(prereqs.loc[prereqs[\"Course Code\"] == val, \"Prereqs\"].values[0]) > 0:\n",
    "        for i in range(0, len(prereqs.loc[prereqs[\"Course Code\"] == val, \"Prereqs\"].values[0])):\n",
    "            prereq_list.append((prereqs.loc[prereqs[\"Course Code\"] == val, \"Prereqs\"].values[0][i], val))\n",
    "\n",
    "#Set the nodes and edges of the graph\n",
    "Graph = nx.DiGraph()\n",
    "for course_code in courses_df[\"Course Code\"]:\n",
    "    Graph.add_node(course_code)\n",
    "Graph.add_edges_from(prereq_list)\n",
    "\n",
    "#Plot the graph\n",
    "plt.figure(figsize=(15, 15)) \n",
    "nx.draw(Graph, pos, with_labels=True, node_size=2000, node_color=\"lightgreen\", font_size=10, font_weight=\"bold\", font_color=\"darkblue\", edge_color=\"black\", arrowsize=15)\n",
    "plt.title(\"Prerequisites/Classes Graph\")\n",
    "plt.savefig(\"my_plot.png\", dpi=300, bbox_inches='tight')\n",
    "plt.show()"
   ]
  },
  {
   "cell_type": "markdown",
   "id": "40d6f328-4b21-45b0-920a-c520fa0441f6",
   "metadata": {},
   "source": [
    "## Great Job! ##\n",
    "You now have completed the tutorial on how to graph curriculum data. "
   ]
  },
  {
   "cell_type": "code",
   "execution_count": null,
   "id": "42ab2793-8095-4864-89aa-d45c37a88f6e",
   "metadata": {},
   "outputs": [],
   "source": []
  }
 ],
 "metadata": {
  "kernelspec": {
   "display_name": "Python 3 (ipykernel)",
   "language": "python",
   "name": "python3"
  },
  "language_info": {
   "codemirror_mode": {
    "name": "ipython",
    "version": 3
   },
   "file_extension": ".py",
   "mimetype": "text/x-python",
   "name": "python",
   "nbconvert_exporter": "python",
   "pygments_lexer": "ipython3",
   "version": "3.12.7"
  }
 },
 "nbformat": 4,
 "nbformat_minor": 5
}
